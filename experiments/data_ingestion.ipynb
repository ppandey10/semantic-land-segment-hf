{
 "cells": [
  {
   "cell_type": "code",
   "execution_count": 1,
   "metadata": {},
   "outputs": [],
   "source": [
    "import os\n",
    "os.environ['http_proxy'] = 'http://proxy1.bgc-jena.mpg.de:3128' \n",
    "os.environ['https_proxy'] = 'http://proxy1.bgc-jena.mpg.de:3128'"
   ]
  },
  {
   "cell_type": "markdown",
   "metadata": {},
   "source": [
    "FILES TO UPDATE: \n",
    "- config.yaml\n",
    "- params.yaml\n",
    "- entity\n",
    "- configuration manager in src config\n",
    "- components\n",
    "- pipeline\n",
    "- main.py\n",
    "- app.py"
   ]
  },
  {
   "cell_type": "code",
   "execution_count": 2,
   "metadata": {},
   "outputs": [
    {
     "data": {
      "text/plain": [
       "'/Net/Groups/BGI/scratch/ppandey/Side_Quest/semantic-land-segment-hf/experiments'"
      ]
     },
     "execution_count": 2,
     "metadata": {},
     "output_type": "execute_result"
    }
   ],
   "source": [
    "from pathlib import Path\n",
    "%pwd"
   ]
  },
  {
   "cell_type": "code",
   "execution_count": 3,
   "metadata": {},
   "outputs": [
    {
     "data": {
      "text/plain": [
       "'/Net/Groups/BGI/scratch/ppandey/Side_Quest/semantic-land-segment-hf'"
      ]
     },
     "execution_count": 3,
     "metadata": {},
     "output_type": "execute_result"
    }
   ],
   "source": [
    "os.chdir('../')\n",
    "%pwd"
   ]
  },
  {
   "cell_type": "code",
   "execution_count": 4,
   "metadata": {},
   "outputs": [],
   "source": [
    "from dataclasses import dataclass\n",
    "\n",
    "@dataclass(frozen=True)\n",
    "class DataIngestionConfig:\n",
    "    root_dir: Path\n",
    "    source_url: str\n",
    "    local_data_path: Path\n",
    "    unzip_dir: Path"
   ]
  },
  {
   "cell_type": "code",
   "execution_count": 11,
   "metadata": {},
   "outputs": [],
   "source": [
    "from landcover_segmentation.constants import * \n",
    "from landcover_segmentation.utils.common import read_yaml, create_directories"
   ]
  },
  {
   "cell_type": "code",
   "execution_count": 20,
   "metadata": {},
   "outputs": [],
   "source": [
    "class ConfigurationManager:\n",
    "    def __init__(\n",
    "        self,\n",
    "        config_filepath = CONFIG_FILEPATH,\n",
    "        params_filepath = PARAMS_FILEPATH\n",
    "    ):\n",
    "        self.config = read_yaml(config_filepath)\n",
    "        self.params = read_yaml(params_filepath)\n",
    "\n",
    "        # create artifacts folder\n",
    "        create_directories([self.config.artifacts_root])\n",
    "\n",
    "    def get_data_ingestion_config(self) -> DataIngestionConfig:\n",
    "        config = self.config.data_ingestion\n",
    "\n",
    "        # create directory\n",
    "        create_directories([config.root_dir])\n",
    "\n",
    "        data_ingestion_config = DataIngestionConfig(\n",
    "            root_dir=config.root_dir,\n",
    "            source_url=config.source_url,\n",
    "            local_data_path=config.local_data_path,\n",
    "            unzip_dir=config.unzip_dir\n",
    "        )\n",
    "\n",
    "        return data_ingestion_config"
   ]
  },
  {
   "cell_type": "code",
   "execution_count": 21,
   "metadata": {},
   "outputs": [],
   "source": [
    "# COMPONENTS!\n",
    "import urllib.request as rqst\n",
    "import zipfile\n",
    "\n",
    "from landcover_segmentation.logging import logger\n",
    "from landcover_segmentation.utils.common import get_size"
   ]
  },
  {
   "cell_type": "code",
   "execution_count": 28,
   "metadata": {},
   "outputs": [],
   "source": [
    "class DataIngestion:\n",
    "    def __init__(\n",
    "        self, \n",
    "        config: DataIngestionConfig\n",
    "    ):\n",
    "        self.config = config\n",
    "        self.filename = config.local_data_path\n",
    "\n",
    "    def download_data_from_url(self):\n",
    "        if not os.path.exists(self.config.local_data_path):\n",
    "            filename, headers = rqst.urlretrieve(\n",
    "                url=self.config.source_url,\n",
    "                filename=self.filename\n",
    "            )\n",
    "            logger.info(f'{filename} downloaded! Information: \\n{headers}')\n",
    "\n",
    "        else:\n",
    "            logger.info(f'{self.filename} already exists!')\n",
    "\n",
    "    def extract_zip_file(self):\n",
    "        unzip_data_path = self.config.unzip_dir\n",
    "        os.makedirs(unzip_data_path, exist_ok=True)\n",
    "        with zipfile.ZipFile(self.config.local_data_path, 'r') as zip_ref:\n",
    "            zip_ref.extractall(unzip_data_path)       "
   ]
  },
  {
   "cell_type": "code",
   "execution_count": 29,
   "metadata": {},
   "outputs": [
    {
     "name": "stdout",
     "output_type": "stream",
     "text": [
      "[2024-05-12 10:45:05,780: INFO: common: yaml file: config/config.yaml loaded successfully]\n",
      "[2024-05-12 10:45:05,784: INFO: common: yaml file: params.yaml loaded successfully]\n",
      "[2024-05-12 10:45:05,785: INFO: common: created directory at: artifacts]\n",
      "[2024-05-12 10:45:05,785: INFO: common: created directory at: artifacts/data_ingestion]\n",
      "[2024-05-12 10:45:05,785: INFO: 1184886628: artifacts/data_ingestion/landcover_data.zip already exists!]\n"
     ]
    }
   ],
   "source": [
    "# Ingestion pipeline\n",
    "try:\n",
    "    config = ConfigurationManager()\n",
    "    data_ing_config = config.get_data_ingestion_config()\n",
    "    data_ingestion = DataIngestion(config=data_ing_config)\n",
    "    data_ingestion.download_data_from_url()\n",
    "    data_ingestion.extract_zip_file()\n",
    "except Exception as e:\n",
    "    raise e"
   ]
  }
 ],
 "metadata": {
  "kernelspec": {
   "display_name": "TextSum",
   "language": "python",
   "name": "texts"
  },
  "language_info": {
   "codemirror_mode": {
    "name": "ipython",
    "version": 3
   },
   "file_extension": ".py",
   "mimetype": "text/x-python",
   "name": "python",
   "nbconvert_exporter": "python",
   "pygments_lexer": "ipython3",
   "version": "3.10.14"
  }
 },
 "nbformat": 4,
 "nbformat_minor": 2
}
